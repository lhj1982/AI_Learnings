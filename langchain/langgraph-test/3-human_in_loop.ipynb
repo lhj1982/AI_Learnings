{
 "cells": [
  {
   "cell_type": "code",
   "execution_count": 3,
   "id": "197bc956",
   "metadata": {},
   "outputs": [],
   "source": [
    "from langgraph.checkpoint.memory import InMemorySaver\n",
    "from langgraph.types import interrupt\n",
    "from langgraph.prebuilt import create_react_agent\n",
    "from dotenv import load_dotenv\n",
    "load_dotenv()\n",
    "\n",
    "# An example of a sensitive tool that requires human review / approval\n",
    "def book_hotel(hotel_name: str):\n",
    "    \"\"\"Book a hotel\"\"\"\n",
    "    # highlight-next-line\n",
    "    response = interrupt(  # (1)!\n",
    "        f\"Trying to call `book_hotel` with args {{'hotel_name': {hotel_name}}}. \"\n",
    "        \"Please approve or suggest edits.\"\n",
    "    )\n",
    "    if response[\"type\"] == \"accept\":\n",
    "        pass\n",
    "    elif response[\"type\"] == \"edit\":\n",
    "        hotel_name = response[\"args\"][\"hotel_name\"]\n",
    "    else:\n",
    "        raise ValueError(f\"Unknown response type: {response['type']}\")\n",
    "    return f\"Successfully booked a stay at {hotel_name}.\"\n",
    "\n",
    "# highlight-next-line\n",
    "checkpointer = InMemorySaver() # (2)!\n",
    "\n",
    "agent = create_react_agent(\n",
    "    model=\"gpt-4.1\",\n",
    "    tools=[book_hotel],\n",
    "    # highlight-next-line\n",
    "    checkpointer=checkpointer, # (3)!\n",
    ")"
   ]
  }
 ],
 "metadata": {
  "kernelspec": {
   "display_name": ".venv",
   "language": "python",
   "name": "python3"
  },
  "language_info": {
   "codemirror_mode": {
    "name": "ipython",
    "version": 3
   },
   "file_extension": ".py",
   "mimetype": "text/x-python",
   "name": "python",
   "nbconvert_exporter": "python",
   "pygments_lexer": "ipython3",
   "version": "3.11.12"
  }
 },
 "nbformat": 4,
 "nbformat_minor": 5
}
