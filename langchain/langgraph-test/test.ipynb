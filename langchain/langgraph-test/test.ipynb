{
 "cells": [
  {
   "cell_type": "code",
   "execution_count": 1,
   "id": "52b4a4e6-3e7d-4d3f-bf34-192dd8ea74ab",
   "metadata": {},
   "outputs": [
    {
     "name": "stdout",
     "output_type": "stream",
     "text": [
      "Note: you may need to restart the kernel to use updated packages.\n"
     ]
    }
   ],
   "source": [
    "%pip install -qU langchain_community pypdf"
   ]
  },
  {
   "cell_type": "code",
   "execution_count": 9,
   "id": "4bf156d4-b5ed-44d4-bf71-5d6d2f4610bb",
   "metadata": {},
   "outputs": [],
   "source": [
    "from dotenv import load_dotenv\n",
    "load_dotenv()\n",
    "\n",
    "from langchain_community.document_loaders import PyPDFLoader\n",
    "\n",
    "filename = \"/home/james/projects/learnings/AI_Learnings/langchain/langgraph-test/data_sources/2025q1-alphabet-earnings-release.pdf\"\n",
    "loader = PyPDFLoader(file_path=filename)\n",
    "docs = []\n",
    "docs = loader.load()"
   ]
  },
  {
   "cell_type": "code",
   "execution_count": 10,
   "id": "cbc186c1-466b-4e12-8fb7-c3527a84bcf2",
   "metadata": {},
   "outputs": [
    {
     "name": "stdout",
     "output_type": "stream",
     "text": [
      "Split the pdf into 17 sub-documents.\n"
     ]
    }
   ],
   "source": [
    "from langchain_text_splitters import RecursiveCharacterTextSplitter\n",
    "\n",
    "text_splitter = RecursiveCharacterTextSplitter(\n",
    "    chunk_size=2000,\n",
    "    chunk_overlap=30,\n",
    "    add_start_index=True)\n",
    "\n",
    "all_splits = text_splitter.split_documents(docs)\n",
    "\n",
    "print(f\"Split the pdf into {len(all_splits)} sub-documents.\")"
   ]
  },
  {
   "cell_type": "code",
   "execution_count": 11,
   "id": "186addf0-fa70-45ac-b195-c16181f07e73",
   "metadata": {},
   "outputs": [],
   "source": [
    "from langchain_openai import OpenAIEmbeddings\n",
    "from langchain_core.vectorstores import InMemoryVectorStore\n",
    "\n",
    "# embedding model\n",
    "embed_model = OpenAIEmbeddings(model=\"text-embedding-3-large\")\n",
    "\n",
    "# vector storage\n",
    "vector_store = InMemoryVectorStore(embedding=embed_model)\n",
    "\n",
    "# add document chunks to the vector store to get index chunks\n",
    "document_ids = vector_store.add_documents(documents=all_splits)"
   ]
  },
  {
   "cell_type": "code",
   "execution_count": 5,
   "id": "d017ff2b-bac3-4a3d-8ed8-7a20e8551e18",
   "metadata": {},
   "outputs": [
    {
     "data": {
      "image/png": "[encoded data removed]",
      "text/plain": [
       "<IPython.core.display.Image object>"
      ]
     },
     "execution_count": 5,
     "metadata": {},
     "output_type": "execute_result"
    }
   ],
   "source": [
    "from typing import TypedDict, List\n",
    "from IPython.display import Image\n",
    "from langchain import hub\n",
    "from langchain_core.documents import Document\n",
    "from langgraph.graph import START, END, StateGraph\n",
    "from langchain_openai import ChatOpenAI\n",
    "\n",
    "\n",
    "prompt = hub.pull('rlm/rag-prompt')\n",
    "\n",
    "llm = ChatOpenAI(model='gpt-4o')\n",
    "\n",
    "class State(TypedDict):\n",
    "    question: str\n",
    "    context: List[Document]\n",
    "    answer: str\n",
    "\n",
    "def retrieve(state: State):\n",
    "    print(\"--Retrieving Information--\")\n",
    "    question = state['question']\n",
    "    retrieved_docs = vector_store.similarity_search(query=question,k=4)\n",
    "    return {'context': retrieved_docs}\n",
    "\n",
    "def generate(state: State):\n",
    "    print(\"--Generating Response--\")\n",
    "    docs_contents =  \"\\n\\n\".join([doc.page_content for doc in state[\"context\"]])\n",
    "    messages = prompt.invoke({'question': state['question'], 'context': state['context']})\n",
    "    response = llm.invoke(messages)\n",
    "    return {'answer': response}\n",
    "        \n",
    "builder = StateGraph(State)\n",
    "\n",
    "builder.add_node(\"retrieve\", retrieve)\n",
    "builder.add_node(\"generate\", generate)\n",
    "\n",
    "builder.add_edge(START, \"retrieve\")\n",
    "builder.add_edge(\"retrieve\", \"generate\")\n",
    "builder.add_edge(\"generate\", END)\n",
    "\n",
    "graph = builder.compile()\n",
    "\n",
    "Image(graph.get_graph().draw_mermaid_png())"
   ]
  },
  {
   "cell_type": "code",
   "execution_count": 7,
   "id": "e107893c-62c7-4627-94eb-17e9c1d117ae",
   "metadata": {},
   "outputs": [
    {
     "name": "stdout",
     "output_type": "stream",
     "text": [
      "--Retrieving Information--\n",
      "--Generating Response--\n",
      "==================================\u001b[1m Ai Message \u001b[0m==================================\n",
      "\n",
      "I don't know. The provided context contains information only about Alphabet's performance in Q1 2025, not Nike's.\n"
     ]
    }
   ],
   "source": [
    "for event in graph.stream({'question': 'How does Nike does in Q1 2025'},stream_mode='values'):\n",
    "    if event.get('answer',''):\n",
    "        event['answer'].pretty_print()"
   ]
  },
  {
   "cell_type": "code",
   "execution_count": 15,
   "id": "99ced1ca-19b1-4385-89fb-af9688f4c11e",
   "metadata": {},
   "outputs": [
    {
     "data": {
      "text/plain": [
       "'resource, and legal costs, including certain fines and settlements. Charges associated with employee severance \\nand office space reductions are also not allocated to our segments. Additionally, hedging gains (losses) related to \\nrevenue are not allocated to our segments.\\n7\\n\\ntransparency with respect to key metrics used by management in its financial and operational decision-making and (2) \\nthey are used by our institutional investors and the analyst community to help them analyze the health of our business.\\nThere are a number of limitations related to the use of non-GAAP financial measures. We compensate for these \\nlimitations by providing specific information regarding the GAAP amounts excluded from these non-GAAP financial \\nmeasures and evaluating these non-GAAP financial measures together with their relevant financial measures in \\naccordance with GAAP.\\nFor more information on these non-GAAP financial measures, please see the sections captioned “ Reconciliation from \\nGAAP Net Cash Provided by Operating Activities to Non-GAAP Free Cash Flow ”and “ Reconciliation from GAAP \\nRevenues to Non-GAAP Constant Currency Revenues and GAAP Percentage Change in Revenues to Non-GAAP \\nPercentage Change in Constant Currency Revenues” included at the end of this release.\\nContact\\nInvestor relations Media\\ninvestor-relations@abc.xyz press@abc.xyz\\n3\\n\\n$70.0 billion  of its Class A and Class C shares in a manner deemed in the best interest of the company and its \\nstockholders, taking into account the economic cost and prevailing market conditions, including the relative trading \\nprices and volumes of the Class A and Class C shares. The repurchases are expected to be executed from time to \\ntime, subject to general business and market conditions and other investment opportunities, through open market \\npurchases or privately negotiated transactions, including through Rule 10b5-1 plans.\\nNet Gain on Equity Securities \\nOI&E of $11.2 billion for the three months ended March 31, 2025 included an $8.0 billion unrealized gain on our \\nnon-marketable equity securities related to our investment in a private company.\\n2\\n\\nReconciliation from GAAP Revenues to Non-GAAP Constant Currency Revenues and GAAP Percentage \\nChange in Revenues to Non-GAAP Percentage Change in Constant Currency Revenues  (in millions, except \\npercentages; unaudited):\\nWe provide non-GAAP constant currency revenues (“constant currency revenues”) and non-GAAP percentage change \\nin constant currency revenues (“percentage change in constant currency revenues”), because they facilitate the \\ncomparison of current results to historic performance by excluding the effect of foreign exchange rate movements (“FX \\nEffect”) as well as hedging activities, which are recognized at the consolidated level, as they are not indicative of our \\ncore operating results.\\nNon-GAAP constant currency revenues is defined as revenues excluding the effect of foreign exchange rate \\nmovements and hedging activities and is calculated by translating current period revenues using prior period exchange \\nrates and excluding any hedging effect recognized in the current period. We calculate the percentage change in \\nconstant currency revenues by comparing constant currency revenues to the prior year comparable period revenues, \\nexcluding any hedging effect recognized in the prior period.\\nRevenues by Geography\\nComparison from the Quarter Ended March 31, 2024 to the Quarter Ended March 31, 2025\\nQuarter Ended March 31, 2025\\n% Change from Prior Period\\nQuarter Ended March 31, Less FX \\nEffect\\nConstant \\nCurrency \\nRevenues\\nAs \\nReported\\nLess \\nHedging \\nEffect\\nLess FX \\nEffect\\nConstant \\nCurrency \\nRevenues2024 2025\\nUnited States $ 38,737 $ 43,964 $ 0 $ 43,964  13 %  0 %  13 %\\nEMEA  23,788  25,923  (724)  26,647  9 %  (3) %  12 %\\nAPAC  13,289  14,854  (381)  15,235  12 %  (3) %  15 %\\nOther Americas  4,653  5,233  (500)  5,733  12 %  (11) %  23 %\\nRevenues, excluding hedging effect  80,467  89,974  (1,605)  91,579  12 %  (2) %  14 %\\nHedging gains (losses)  72  260 \\nTotal revenues(1)\\n$ 80,539 $ 90,234 $ 91,579  12 %  0 %  (2) %  14 %'"
      ]
     },
     "execution_count": 15,
     "metadata": {},
     "output_type": "execute_result"
    }
   ],
   "source": [
    "from langchain.tools.retriever import create_retriever_tool\n",
    "\n",
    "retriever = vector_store.as_retriever()\n",
    "retriever_tool = create_retriever_tool(\n",
    "    retriever,\n",
    "    \"retrieve_blog_posts\",\n",
    "    \"Search analysis for SAAB.\",\n",
    ")\n",
    "retriever_tool.invoke({\"query\": \"types of reward hacking\"})"
   ]
  },
  {
   "cell_type": "code",
   "execution_count": null,
   "id": "43e03087-2fec-412a-acd6-bb10e1170136",
   "metadata": {},
   "outputs": [],
   "source": []
  }
 ],
 "metadata": {
  "kernelspec": {
   "display_name": "Python 3 (ipykernel)",
   "language": "python",
   "name": "python3"
  },
  "language_info": {
   "codemirror_mode": {
    "name": "ipython",
    "version": 3
   },
   "file_extension": ".py",
   "mimetype": "text/x-python",
   "name": "python",
   "nbconvert_exporter": "python",
   "pygments_lexer": "ipython3",
   "version": "3.12.3"
  }
 },
 "nbformat": 4,
 "nbformat_minor": 5
}
